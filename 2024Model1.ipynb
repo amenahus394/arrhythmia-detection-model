{
  "cells": [
    {
      "cell_type": "markdown",
      "metadata": {
        "id": "view-in-github",
        "colab_type": "text"
      },
      "source": [
        "<a href=\"https://colab.research.google.com/github/amenahus394/arrhythmia-detection-model/blob/main/2024Model1.ipynb\" target=\"_parent\"><img src=\"https://colab.research.google.com/assets/colab-badge.svg\" alt=\"Open In Colab\"/></a>"
      ]
    },
    {
      "cell_type": "code",
      "execution_count": null,
      "metadata": {
        "id": "VBxKXr4SNE8T"
      },
      "outputs": [],
      "source": [
        "import numpy\n",
        "import pandas\n",
        "import math\n",
        "from keras.models import Sequential\n",
        "from keras.layers import Dense, LSTM, Dropout, Conv1D, Conv2D, MaxPooling2D, Flatten, ConvLSTM2D, Bidirectional, Lambda, Reshape, Permute, BatchNormalization, Conv3D\n",
        "from keras.callbacks import ModelCheckpoint\n",
        "from sklearn.preprocessing import MinMaxScaler\n",
        "from sklearn.metrics import mean_squared_error\n",
        "import pandas as pd\n",
        "import scipy.io as sio\n",
        "from os import listdir\n",
        "from os.path import isfile, join\n",
        "import numpy as np\n",
        "import keras\n",
        "from sklearn.metrics import accuracy_score\n",
        "from keras import backend as K\n",
        "import sys"
      ]
    },
    {
      "cell_type": "code",
      "execution_count": null,
      "metadata": {
        "id": "HIds3pwnOf2f"
      },
      "outputs": [],
      "source": [
        "K.image_data_format() #For problems with ordering\n",
        "\n",
        "number_of_classes = 4"
      ]
    },
    {
      "cell_type": "code",
      "execution_count": null,
      "metadata": {
        "id": "tEA0hXphSEGA"
      },
      "outputs": [],
      "source": [
        "def change(x):\n",
        "    answer = np.zeros((np.shape(x)[0]))\n",
        "    for i in range(np.shape(x)[0]):\n",
        "        max_value = max(x[i, :])\n",
        "        max_index = list(x[i, :]).index(max_value)\n",
        "        answer[i] = max_index\n",
        "    return answer.astype(np.int)\n"
      ]
    },
    {
      "cell_type": "code",
      "execution_count": null,
      "metadata": {
        "colab": {
          "base_uri": "https://localhost:8080/",
          "height": 211
        },
        "id": "YDy3HeGCSeaq",
        "outputId": "9ce464d8-2aa7-455d-b87d-606d1aaacf3b"
      },
      "source": [
        "mypath = '/content/'\n",
        "onlyfiles = [f for f in listdir(mypath) if (isfile(join(mypath, f)) and f[0] == 'A')]\n",
        "bats = [f for f in onlyfiles if f[7] == 'm']\n",
        "mats = [f for f in bats if (np.shape(sio.loadmat(mypath + f)['val'])[1] >= 9000)] #Choic of only 9k time steps\n",
        "check = np.shape(sio.loadmat(mypath + mats[0])['val'])[1]\n",
        "X = np.zeros((len(mats), check))\n",
        "for i in range(len(mats)):\n",
        "    X[i, :] = sio.loadmat(mypath + mats[i])['val'][0,:9000]\n",
        "\n",
        "#Transformation from literals (Noisy, Arithm, Other, Normal)\n",
        "target_train = np.zeros((len(mats), 1))\n",
        "Train_data = pd.read_csv(mypath + 'REFERENCE.csv', sep=',', header=None, names=None)\n",
        "for i in range(len(mats)):\n",
        "    if Train_data.loc[Train_data[0] == mats[i][:6], 1].values == 'N':\n",
        "        target_train[i] = 0\n",
        "    elif Train_data.loc[Train_data[0] == mats[i][:6], 1].values == 'A':\n",
        "        target_train[i] = 1\n",
        "    elif Train_data.loc[Train_data[0] == mats[i][:6], 1].values == 'O':\n",
        "        target_train[i] = 2\n",
        "    else:\n",
        "        target_train[i] = 3\n",
        "\n",
        "Label_set = np.zeros((len(mats), number_of_classes))\n",
        "for i in range(np.shape(target_train)[0]):\n",
        "    dummy = np.zeros((number_of_classes))\n",
        "    dummy[int(target_train[i])] = 1\n",
        "    Label_set[i, :] = dummy"
      ]
    },
    {
      "cell_type": "code",
      "execution_count": null,
      "metadata": {
        "id": "btUSScdqaCQm"
      },
      "outputs": [],
      "source": [
        "def ReshapeLayer(x):\n",
        "\n",
        "    shape = x.shape\n",
        "\n",
        "    # 1 possibility: H,W*channel\n",
        "    reshape = Reshape((shape[1],shape[2]*shape[3]))(x)\n",
        "\n",
        "    # 2 possibility: W,H*channel\n",
        "    # transpose = Permute((2,1,3))(x)\n",
        "    # reshape = Reshape((shape[1],shape[2]*shape[3]))(transpose)\n",
        "\n",
        "    return reshape"
      ]
    },
    {
      "cell_type": "code",
      "execution_count": null,
      "metadata": {
        "colab": {
          "base_uri": "https://localhost:8080/",
          "height": 211
        },
        "id": "C7Ici_sFTKM_",
        "outputId": "7d547218-3a15-43c4-82b2-9e56e2654474"
      },
      "outputs": [
        {
          "output_type": "error",
          "ename": "NameError",
          "evalue": "name 'X' is not defined",
          "traceback": [
            "\u001b[0;31m---------------------------------------------------------------------------\u001b[0m",
            "\u001b[0;31mNameError\u001b[0m                                 Traceback (most recent call last)",
            "\u001b[0;32m<ipython-input-1-facf3c28e222>\u001b[0m in \u001b[0;36m<cell line: 2>\u001b[0;34m()\u001b[0m\n\u001b[1;32m      1\u001b[0m \u001b[0mtrain_len\u001b[0m \u001b[0;34m=\u001b[0m \u001b[0;36m0.8\u001b[0m \u001b[0;31m#Choice of training size\u001b[0m\u001b[0;34m\u001b[0m\u001b[0;34m\u001b[0m\u001b[0m\n\u001b[0;32m----> 2\u001b[0;31m \u001b[0mX_train\u001b[0m \u001b[0;34m=\u001b[0m \u001b[0mX\u001b[0m\u001b[0;34m[\u001b[0m\u001b[0;34m:\u001b[0m\u001b[0mint\u001b[0m\u001b[0;34m(\u001b[0m\u001b[0mtrain_len\u001b[0m\u001b[0;34m*\u001b[0m\u001b[0mlen\u001b[0m\u001b[0;34m(\u001b[0m\u001b[0mmats\u001b[0m\u001b[0;34m)\u001b[0m\u001b[0;34m)\u001b[0m\u001b[0;34m,\u001b[0m \u001b[0;34m:\u001b[0m\u001b[0;34m]\u001b[0m\u001b[0;34m\u001b[0m\u001b[0;34m\u001b[0m\u001b[0m\n\u001b[0m\u001b[1;32m      3\u001b[0m \u001b[0mY_train\u001b[0m \u001b[0;34m=\u001b[0m \u001b[0mLabel_set\u001b[0m\u001b[0;34m[\u001b[0m\u001b[0;34m:\u001b[0m\u001b[0mint\u001b[0m\u001b[0;34m(\u001b[0m\u001b[0mtrain_len\u001b[0m\u001b[0;34m*\u001b[0m\u001b[0mlen\u001b[0m\u001b[0;34m(\u001b[0m\u001b[0mmats\u001b[0m\u001b[0;34m)\u001b[0m\u001b[0;34m)\u001b[0m\u001b[0;34m,\u001b[0m \u001b[0;34m:\u001b[0m\u001b[0;34m]\u001b[0m\u001b[0;34m\u001b[0m\u001b[0;34m\u001b[0m\u001b[0m\n\u001b[1;32m      4\u001b[0m \u001b[0mX_val\u001b[0m \u001b[0;34m=\u001b[0m \u001b[0mX\u001b[0m\u001b[0;34m[\u001b[0m\u001b[0mint\u001b[0m\u001b[0;34m(\u001b[0m\u001b[0mtrain_len\u001b[0m\u001b[0;34m*\u001b[0m\u001b[0mlen\u001b[0m\u001b[0;34m(\u001b[0m\u001b[0mmats\u001b[0m\u001b[0;34m)\u001b[0m\u001b[0;34m)\u001b[0m\u001b[0;34m:\u001b[0m\u001b[0;34m,\u001b[0m \u001b[0;34m:\u001b[0m\u001b[0;34m]\u001b[0m\u001b[0;34m\u001b[0m\u001b[0;34m\u001b[0m\u001b[0m\n\u001b[1;32m      5\u001b[0m \u001b[0mY_val\u001b[0m \u001b[0;34m=\u001b[0m \u001b[0mLabel_set\u001b[0m\u001b[0;34m[\u001b[0m\u001b[0mint\u001b[0m\u001b[0;34m(\u001b[0m\u001b[0mtrain_len\u001b[0m\u001b[0;34m*\u001b[0m\u001b[0mlen\u001b[0m\u001b[0;34m(\u001b[0m\u001b[0mmats\u001b[0m\u001b[0;34m)\u001b[0m\u001b[0;34m)\u001b[0m\u001b[0;34m:\u001b[0m\u001b[0;34m,\u001b[0m \u001b[0;34m:\u001b[0m\u001b[0;34m]\u001b[0m\u001b[0;34m\u001b[0m\u001b[0;34m\u001b[0m\u001b[0m\n",
            "\u001b[0;31mNameError\u001b[0m: name 'X' is not defined"
          ]
        }
      ],
      "source": [
        "train_len = 0.8 #Choice of training size\n",
        "X_train = X[:int(train_len*len(mats)), :]\n",
        "Y_train = Label_set[:int(train_len*len(mats)), :]\n",
        "X_val = X[int(train_len*len(mats)):, :]\n",
        "Y_val = Label_set[int(train_len*len(mats)):, :]\n",
        "\n",
        "# reshape input to be [samples, tensor shape (30 x 300)]\n",
        "n = 20\n",
        "m = 450\n",
        "c = 1 #number of channels\n",
        "t = 1\n",
        "\n",
        "X_train = numpy.reshape(X_train, (X_train.shape[0], t, n, m, c))\n",
        "X_val = numpy.reshape(X_val, (X_val.shape[0], t, n, m, c))\n",
        "image_size = (t, n, m, c)\n",
        "\n",
        "# create and fit the CNN network\n",
        "\n",
        "batch_size = 32\n",
        "model = Sequential()\n",
        "#model.load_weights('my_model_weights.h5')\n",
        "#64 conv\n",
        "# model.add(Conv2D(64, (3, 3), activation='relu', input_shape=image_size, padding='same'))\n",
        "# model.add(Conv2D(64, (3, 3), activation='relu', padding='same'))\n",
        "# model.add(MaxPooling2D(pool_size=(2, 2), strides=(2, 2)))\n",
        "model.add(ConvLSTM2D(64, (3, 3), activation='relu', input_shape=image_size, return_sequences=True, padding='same'))\n",
        "model.add(BatchNormalization())\n",
        "\n",
        "#128 conv\n",
        "# model.add(Conv2D(128, (3, 3), activation='relu', padding='same' ))\n",
        "# model.add(Conv2D(128, (3, 3), activation='relu', padding='same'))\n",
        "# model.add(MaxPooling2D(pool_size=(2, 2), strides=(2, 2)))\n",
        "model.add(ConvLSTM2D(128, (3, 3), activation='relu', return_sequences=True, padding='same'))\n",
        "model.add(BatchNormalization())\n",
        "# #256 conv\n",
        "# model.add(Conv2D(256, (3, 3), activation='relu', padding='same'))\n",
        "# model.add(Conv2D(256, (3, 3), activation='relu', padding='same'))\n",
        "# model.add(Conv2D(256, (3, 3), activation='relu', padding='same'))\n",
        "# model.add(Conv2D(256, (3, 3), activation='relu', padding='same'))\n",
        "# model.add(MaxPooling2D(pool_size=(2, 2), strides=(2, 2)))\n",
        "model.add(ConvLSTM2D(256, (3, 3), activation='relu', return_sequences=True, padding='same'))\n",
        "# #512 conv\n",
        "# model.add(Conv2D(512, (3, 3), activation='relu'))\n",
        "# model.add(Conv2D(512, (3, 3), activation='relu'))\n",
        "# model.add(Conv2D(512, (3, 3), activation='relu'))\n",
        "# model.add(Conv2D(512, (3, 3), activation='relu'))\n",
        "# model.add(MaxPooling2D(pool_size=(2, 2), strides=(2, 2)))\n",
        "# model.add(Conv2D(512, (3, 3), activation='relu'))\n",
        "# model.add(Conv2D(512, (3, 3), activation='relu'))\n",
        "# model.add(Conv2D(512, (3, 3), activation='relu'))\n",
        "# model.add(Conv2D(512, (3, 3), activation='relu'))\n",
        "# model.add(MaxPooling2D(pool_size=(2, 2), strides=(2, 2)))\n",
        "\n",
        "#Dense part\n",
        "# model.add(Flatten())\n",
        "# model.add(Lambda(ReshapeLayer))\n",
        "# model.add(Dense(4096, activation='relu'))\n",
        "# model.add(Dropout(0.5))\n",
        "# model.add(Dense(4096, activation='relu'))\n",
        "# model.add(Dropout(0.5))\n",
        "# model.add(Bidirectional(LSTM(4096, return_sequences=True)))\n",
        "# model.add(Bidirectional(LSTM(4096, return_sequences=True)))\n",
        "# model.add(Dense(1000, activation='relu'))\n",
        "# model.add(Dense(number_of_classes, activation='softmax'))\n",
        "model.add(Conv3D(64, (3, 3, 3), activation='relu', padding='same'))\n",
        "model.add(Flatten())\n",
        "model.add(Dense(number_of_classes, activation='softmax'))\n",
        "\n",
        "#Callbacks and accuracy calculation\n",
        "#early_stopping = keras.callbacks.EarlyStopping(monitor='val_acc', min_delta=0, patience=50, verbose=1, mode='auto')\n",
        "model.compile(loss='categorical_crossentropy', optimizer='adam', metrics=['accuracy'])\n",
        "checkpointer = ModelCheckpoint(filepath=\"Model/weights.hdf5\", monitor='val_loss', save_weights_only=False, period=1, verbose=1, save_best_only=False)\n",
        "model.fit(X_train, Y_train, epochs=30, batch_size=batch_size, validation_data=(X_val, Y_val), verbose=2, shuffle=False, callbacks=[checkpointer])\n",
        "model.save('Model/my_model.h5')\n",
        "# predictions = model.predict(X_val)\n",
        "# score = accuracy_score(change(Y_val), change(predictions))\n",
        "# print(score)"
      ]
    }
  ],
  "metadata": {
    "colab": {
      "provenance": [],
      "include_colab_link": true
    },
    "kernelspec": {
      "display_name": "Python 3",
      "name": "python3"
    },
    "language_info": {
      "name": "python"
    }
  },
  "nbformat": 4,
  "nbformat_minor": 0
}
